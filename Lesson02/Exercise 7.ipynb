{
 "cells": [
  {
   "cell_type": "code",
   "execution_count": 1,
   "metadata": {},
   "outputs": [],
   "source": [
    "import pandas as pd"
   ]
  },
  {
   "cell_type": "code",
   "execution_count": 2,
   "metadata": {
    "scrolled": true
   },
   "outputs": [
    {
     "data": {
      "text/html": [
       "<div>\n",
       "<style scoped>\n",
       "    .dataframe tbody tr th:only-of-type {\n",
       "        vertical-align: middle;\n",
       "    }\n",
       "\n",
       "    .dataframe tbody tr th {\n",
       "        vertical-align: top;\n",
       "    }\n",
       "\n",
       "    .dataframe thead th {\n",
       "        text-align: right;\n",
       "    }\n",
       "</style>\n",
       "<table border=\"1\" class=\"dataframe\">\n",
       "  <thead>\n",
       "    <tr style=\"text-align: right;\">\n",
       "      <th></th>\n",
       "      <th>P Cost</th>\n",
       "      <th>P Views</th>\n",
       "      <th>Q Cost</th>\n",
       "      <th>Q Views</th>\n",
       "      <th>R Cost</th>\n",
       "      <th>R Views</th>\n",
       "    </tr>\n",
       "    <tr>\n",
       "      <th>Day</th>\n",
       "      <th></th>\n",
       "      <th></th>\n",
       "      <th></th>\n",
       "      <th></th>\n",
       "      <th></th>\n",
       "      <th></th>\n",
       "    </tr>\n",
       "  </thead>\n",
       "  <tbody>\n",
       "    <tr>\n",
       "      <th>Monday</th>\n",
       "      <td>50</td>\n",
       "      <td>20000</td>\n",
       "      <td>150</td>\n",
       "      <td>200000</td>\n",
       "      <td>50</td>\n",
       "      <td>10000</td>\n",
       "    </tr>\n",
       "    <tr>\n",
       "      <th>Tuesday</th>\n",
       "      <td>50</td>\n",
       "      <td>15000</td>\n",
       "      <td>150</td>\n",
       "      <td>210000</td>\n",
       "      <td>50</td>\n",
       "      <td>20000</td>\n",
       "    </tr>\n",
       "    <tr>\n",
       "      <th>Wednesday</th>\n",
       "      <td>50</td>\n",
       "      <td>23000</td>\n",
       "      <td>150</td>\n",
       "      <td>175000</td>\n",
       "      <td>50</td>\n",
       "      <td>20000</td>\n",
       "    </tr>\n",
       "    <tr>\n",
       "      <th>Thursday</th>\n",
       "      <td>50</td>\n",
       "      <td>20000</td>\n",
       "      <td>150</td>\n",
       "      <td>230000</td>\n",
       "      <td>50</td>\n",
       "      <td>14000</td>\n",
       "    </tr>\n",
       "    <tr>\n",
       "      <th>Friday</th>\n",
       "      <td>75</td>\n",
       "      <td>19000</td>\n",
       "      <td>200</td>\n",
       "      <td>150000</td>\n",
       "      <td>75</td>\n",
       "      <td>23000</td>\n",
       "    </tr>\n",
       "    <tr>\n",
       "      <th>Saturday</th>\n",
       "      <td>100</td>\n",
       "      <td>30000</td>\n",
       "      <td>300</td>\n",
       "      <td>500000</td>\n",
       "      <td>100</td>\n",
       "      <td>22000</td>\n",
       "    </tr>\n",
       "    <tr>\n",
       "      <th>Sunday</th>\n",
       "      <td>100</td>\n",
       "      <td>40000</td>\n",
       "      <td>300</td>\n",
       "      <td>450000</td>\n",
       "      <td>100</td>\n",
       "      <td>25000</td>\n",
       "    </tr>\n",
       "  </tbody>\n",
       "</table>\n",
       "</div>"
      ],
      "text/plain": [
       "           P Cost  P Views  Q Cost  Q Views  R Cost  R Views\n",
       "Day                                                         \n",
       "Monday         50    20000     150   200000      50    10000\n",
       "Tuesday        50    15000     150   210000      50    20000\n",
       "Wednesday      50    23000     150   175000      50    20000\n",
       "Thursday       50    20000     150   230000      50    14000\n",
       "Friday         75    19000     200   150000      75    23000\n",
       "Saturday      100    30000     300   500000     100    22000\n",
       "Sunday        100    40000     300   450000     100    25000"
      ]
     },
     "execution_count": 2,
     "metadata": {},
     "output_type": "execute_result"
    }
   ],
   "source": [
    "df = pd.read_csv('newspaper_prices.csv', index_col='Day') \n",
    "df"
   ]
  },
  {
   "cell_type": "code",
   "execution_count": 3,
   "metadata": {},
   "outputs": [
    {
     "data": {
      "text/plain": [
       "P Cost         475\n",
       "P Views     167000\n",
       "Q Cost        1400\n",
       "Q Views    1915000\n",
       "R Cost         475\n",
       "R Views     134000\n",
       "dtype: int64"
      ]
     },
     "execution_count": 3,
     "metadata": {},
     "output_type": "execute_result"
    }
   ],
   "source": [
    "df.sum()"
   ]
  },
  {
   "cell_type": "code",
   "execution_count": 4,
   "metadata": {},
   "outputs": [
    {
     "data": {
      "text/plain": [
       "Day\n",
       "Monday        83.333333\n",
       "Tuesday       83.333333\n",
       "Wednesday     83.333333\n",
       "Thursday      83.333333\n",
       "Friday       116.666667\n",
       "Saturday     166.666667\n",
       "Sunday       166.666667\n",
       "dtype: float64"
      ]
     },
     "execution_count": 4,
     "metadata": {},
     "output_type": "execute_result"
    }
   ],
   "source": [
    "df[['P Cost', 'Q Cost', \"R Cost\"]].mean(axis = 1)"
   ]
  },
  {
   "cell_type": "code",
   "execution_count": null,
   "metadata": {},
   "outputs": [],
   "source": []
  }
 ],
 "metadata": {
  "kernelspec": {
   "display_name": "Python 3",
   "language": "python",
   "name": "python3"
  },
  "language_info": {
   "codemirror_mode": {
    "name": "ipython",
    "version": 2
   },
   "file_extension": ".py",
   "mimetype": "text/x-python",
   "name": "python",
   "nbconvert_exporter": "python",
   "pygments_lexer": "ipython2",
   "version": "2.7.15rc1"
  }
 },
 "nbformat": 4,
 "nbformat_minor": 2
}

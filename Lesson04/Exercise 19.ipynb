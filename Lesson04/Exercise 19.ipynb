{
 "cells": [
  {
   "cell_type": "code",
   "execution_count": 1,
   "metadata": {},
   "outputs": [],
   "source": [
    "import pandas as pd\n",
    "df = pd.read_csv('four_cols.csv')"
   ]
  },
  {
   "cell_type": "code",
   "execution_count": 2,
   "metadata": {},
   "outputs": [],
   "source": [
    "cols = df.columns\n",
    "zcols = []\n",
    "for col in cols:\n",
    "    df['z_' + col] = (df[col] - df[col].mean())/df[col].std()\n",
    "    zcols.append('z_' + col)"
   ]
  },
  {
   "cell_type": "code",
   "execution_count": 3,
   "metadata": {},
   "outputs": [],
   "source": [
    "from sklearn import model_selection\n",
    "\n",
    "X_train, X_test = model_selection.train_test_split(df[zcols], random_state = 100)"
   ]
  },
  {
   "cell_type": "code",
   "execution_count": 4,
   "metadata": {},
   "outputs": [
    {
     "data": {
      "text/html": [
       "<div>\n",
       "<style scoped>\n",
       "    .dataframe tbody tr th:only-of-type {\n",
       "        vertical-align: middle;\n",
       "    }\n",
       "\n",
       "    .dataframe tbody tr th {\n",
       "        vertical-align: top;\n",
       "    }\n",
       "\n",
       "    .dataframe thead th {\n",
       "        text-align: right;\n",
       "    }\n",
       "</style>\n",
       "<table border=\"1\" class=\"dataframe\">\n",
       "  <thead>\n",
       "    <tr style=\"text-align: right;\">\n",
       "      <th></th>\n",
       "      <th>z_income</th>\n",
       "      <th>z_age</th>\n",
       "      <th>z_days_since_purchase</th>\n",
       "      <th>z_annual_spend</th>\n",
       "    </tr>\n",
       "  </thead>\n",
       "  <tbody>\n",
       "    <tr>\n",
       "      <th>786</th>\n",
       "      <td>-0.805197</td>\n",
       "      <td>0.420157</td>\n",
       "      <td>-1.939926</td>\n",
       "      <td>0.876740</td>\n",
       "    </tr>\n",
       "    <tr>\n",
       "      <th>152</th>\n",
       "      <td>-0.470513</td>\n",
       "      <td>-2.161454</td>\n",
       "      <td>0.833129</td>\n",
       "      <td>-0.547127</td>\n",
       "    </tr>\n",
       "    <tr>\n",
       "      <th>925</th>\n",
       "      <td>-0.367203</td>\n",
       "      <td>0.051356</td>\n",
       "      <td>0.708297</td>\n",
       "      <td>0.723198</td>\n",
       "    </tr>\n",
       "    <tr>\n",
       "      <th>501</th>\n",
       "      <td>1.448095</td>\n",
       "      <td>-1.331651</td>\n",
       "      <td>-1.110684</td>\n",
       "      <td>-0.485950</td>\n",
       "    </tr>\n",
       "    <tr>\n",
       "      <th>920</th>\n",
       "      <td>-1.089566</td>\n",
       "      <td>0.973360</td>\n",
       "      <td>0.592382</td>\n",
       "      <td>0.293758</td>\n",
       "    </tr>\n",
       "  </tbody>\n",
       "</table>\n",
       "</div>"
      ],
      "text/plain": [
       "     z_income     z_age  z_days_since_purchase  z_annual_spend\n",
       "786 -0.805197  0.420157              -1.939926        0.876740\n",
       "152 -0.470513 -2.161454               0.833129       -0.547127\n",
       "925 -0.367203  0.051356               0.708297        0.723198\n",
       "501  1.448095 -1.331651              -1.110684       -0.485950\n",
       "920 -1.089566  0.973360               0.592382        0.293758"
      ]
     },
     "execution_count": 4,
     "metadata": {},
     "output_type": "execute_result"
    }
   ],
   "source": [
    "X_train.head()"
   ]
  },
  {
   "cell_type": "code",
   "execution_count": 5,
   "metadata": {},
   "outputs": [
    {
     "data": {
      "text/html": [
       "<div>\n",
       "<style scoped>\n",
       "    .dataframe tbody tr th:only-of-type {\n",
       "        vertical-align: middle;\n",
       "    }\n",
       "\n",
       "    .dataframe tbody tr th {\n",
       "        vertical-align: top;\n",
       "    }\n",
       "\n",
       "    .dataframe thead th {\n",
       "        text-align: right;\n",
       "    }\n",
       "</style>\n",
       "<table border=\"1\" class=\"dataframe\">\n",
       "  <thead>\n",
       "    <tr style=\"text-align: right;\">\n",
       "      <th></th>\n",
       "      <th>z_income</th>\n",
       "      <th>z_age</th>\n",
       "      <th>z_days_since_purchase</th>\n",
       "      <th>z_annual_spend</th>\n",
       "    </tr>\n",
       "  </thead>\n",
       "  <tbody>\n",
       "    <tr>\n",
       "      <th>249</th>\n",
       "      <td>-0.987142</td>\n",
       "      <td>0.327957</td>\n",
       "      <td>0.850962</td>\n",
       "      <td>0.710602</td>\n",
       "    </tr>\n",
       "    <tr>\n",
       "      <th>353</th>\n",
       "      <td>1.635380</td>\n",
       "      <td>-1.239450</td>\n",
       "      <td>-0.647022</td>\n",
       "      <td>-0.998159</td>\n",
       "    </tr>\n",
       "    <tr>\n",
       "      <th>537</th>\n",
       "      <td>-0.733143</td>\n",
       "      <td>0.420157</td>\n",
       "      <td>0.726130</td>\n",
       "      <td>1.078865</td>\n",
       "    </tr>\n",
       "    <tr>\n",
       "      <th>424</th>\n",
       "      <td>-0.678197</td>\n",
       "      <td>0.235756</td>\n",
       "      <td>-1.431681</td>\n",
       "      <td>1.501707</td>\n",
       "    </tr>\n",
       "    <tr>\n",
       "      <th>564</th>\n",
       "      <td>-0.721551</td>\n",
       "      <td>-0.040845</td>\n",
       "      <td>1.439456</td>\n",
       "      <td>-0.643691</td>\n",
       "    </tr>\n",
       "  </tbody>\n",
       "</table>\n",
       "</div>"
      ],
      "text/plain": [
       "     z_income     z_age  z_days_since_purchase  z_annual_spend\n",
       "249 -0.987142  0.327957               0.850962        0.710602\n",
       "353  1.635380 -1.239450              -0.647022       -0.998159\n",
       "537 -0.733143  0.420157               0.726130        1.078865\n",
       "424 -0.678197  0.235756              -1.431681        1.501707\n",
       "564 -0.721551 -0.040845               1.439456       -0.643691"
      ]
     },
     "execution_count": 5,
     "metadata": {},
     "output_type": "execute_result"
    }
   ],
   "source": [
    "X_test.head()"
   ]
  },
  {
   "cell_type": "code",
   "execution_count": 6,
   "metadata": {},
   "outputs": [
    {
     "name": "stdout",
     "output_type": "stream",
     "text": [
      "Length of training set: 750\n",
      "Length of test set: 250\n"
     ]
    }
   ],
   "source": [
    "print('Length of training set: ' + str(len(X_train)))\n",
    "print('Length of test set: ' + str(len(X_test)))"
   ]
  },
  {
   "cell_type": "code",
   "execution_count": 7,
   "metadata": {},
   "outputs": [
    {
     "data": {
      "text/plain": [
       "MeanShift(bandwidth=1.134556584809182, bin_seeding=True, cluster_all=True,\n",
       "     min_bin_freq=1, n_jobs=1, seeds=None)"
      ]
     },
     "execution_count": 7,
     "metadata": {},
     "output_type": "execute_result"
    }
   ],
   "source": [
    "from sklearn import cluster\n",
    "from sklearn import metrics\n",
    "\n",
    "bandwidth = cluster.estimate_bandwidth(X_train, quantile=0.1)\n",
    "ms = cluster.MeanShift(bandwidth=bandwidth, bin_seeding=True)\n",
    "\n",
    "ms.fit(X_train)"
   ]
  },
  {
   "cell_type": "code",
   "execution_count": 8,
   "metadata": {},
   "outputs": [
    {
     "name": "stdout",
     "output_type": "stream",
     "text": [
      "mean-shift silhouette score: 0.4702247778303609\n"
     ]
    }
   ],
   "source": [
    "ms_labels = ms.predict(X_test)\n",
    "\n",
    "ms_silhouette = metrics.silhouette_score(X_test, ms_labels)\n",
    "print('mean-shift silhouette score: ' + str(ms_silhouette))"
   ]
  },
  {
   "cell_type": "code",
   "execution_count": 9,
   "metadata": {},
   "outputs": [
    {
     "name": "stdout",
     "output_type": "stream",
     "text": [
      "k-means silhouette score: 0.4710211103342539\n"
     ]
    }
   ],
   "source": [
    "model = cluster.KMeans(n_clusters=5, random_state=10)\n",
    "model.fit(X_train)\n",
    "\n",
    "km_labels = model.predict(X_test)\n",
    "km_silhouette = metrics.silhouette_score(X_test, km_labels)\n",
    "\n",
    "print('k-means silhouette score: ' + str(km_silhouette))"
   ]
  },
  {
   "cell_type": "code",
   "execution_count": 10,
   "metadata": {},
   "outputs": [
    {
     "name": "stdout",
     "output_type": "stream",
     "text": [
      "mean-shift (low quantile) silhouette score: 0.030474668518421098\n"
     ]
    }
   ],
   "source": [
    "bandwidth = cluster.estimate_bandwidth(X_train, quantile=0.01)\n",
    "ms = cluster.MeanShift(bandwidth=bandwidth, bin_seeding=True)\n",
    "\n",
    "ms.fit(X_train)\n",
    "\n",
    "ms_labels = ms.predict(X_test)\n",
    "\n",
    "ms_silhouette = metrics.silhouette_score(X_test, ms_labels)\n",
    "print('mean-shift (low quantile) silhouette score: ' + str(ms_silhouette))"
   ]
  },
  {
   "cell_type": "code",
   "execution_count": null,
   "metadata": {},
   "outputs": [],
   "source": []
  }
 ],
 "metadata": {
  "anaconda-cloud": {},
  "kernelspec": {
   "display_name": "Python 3",
   "language": "python",
   "name": "python3"
  },
  "language_info": {
   "codemirror_mode": {
    "name": "ipython",
    "version": 3
   },
   "file_extension": ".py",
   "mimetype": "text/x-python",
   "name": "python",
   "nbconvert_exporter": "python",
   "pygments_lexer": "ipython3",
   "version": "3.6.0"
  }
 },
 "nbformat": 4,
 "nbformat_minor": 1
}

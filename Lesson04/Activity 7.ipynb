{
 "cells": [
  {
   "cell_type": "code",
   "execution_count": 1,
   "metadata": {},
   "outputs": [],
   "source": [
    "import pandas as pd\n",
    "df = pd.read_csv('customer_offers.csv').set_index('customer_name')"
   ]
  },
  {
   "cell_type": "code",
   "execution_count": 2,
   "metadata": {},
   "outputs": [],
   "source": [
    "from sklearn import model_selection\n",
    "\n",
    "X_train, X_test = model_selection.train_test_split(df, random_state = 100)"
   ]
  },
  {
   "cell_type": "code",
   "execution_count": 3,
   "metadata": {},
   "outputs": [
    {
     "data": {
      "image/png": "[encoded data removed]",
      "text/plain": [
       "<Figure size 432x288 with 1 Axes>"
      ]
     },
     "metadata": {
      "needs_background": "light"
     },
     "output_type": "display_data"
    }
   ],
   "source": [
    "from sklearn import cluster\n",
    "from sklearn import metrics\n",
    "import matplotlib.pyplot as plt\n",
    "%matplotlib inline\n",
    "\n",
    "krange = list(range(2,11))\n",
    "avg_silhouettes = []\n",
    "for n in krange:\n",
    "    model = cluster.KMeans(n_clusters=n, random_state=100)\n",
    "    model.fit(X_train)\n",
    "    cluster_assignments = model.predict(X_test)\n",
    "    \n",
    "    silhouette_avg = metrics.silhouette_score(X_test, cluster_assignments)\n",
    "    avg_silhouettes.append(silhouette_avg)\n",
    "    \n",
    "plt.plot(krange, avg_silhouettes)\n",
    "plt.xlabel(\"$K$\")\n",
    "plt.ylabel(\"Average Silhouette Score\")\n",
    "plt.show()"
   ]
  },
  {
   "cell_type": "code",
   "execution_count": 5,
   "metadata": {},
   "outputs": [
    {
     "name": "stdout",
     "output_type": "stream",
     "text": [
      "k-means silhouette score: 0.115298516478898\n"
     ]
    }
   ],
   "source": [
    "model = cluster.KMeans(n_clusters=3, random_state=100)\n",
    "model.fit(X_train)\n",
    "\n",
    "km_labels = model.predict(X_test)\n",
    "km_silhouette = metrics.silhouette_score(X_test, km_labels)\n",
    "\n",
    "print('k-means silhouette score: ' + str(km_silhouette))"
   ]
  },
  {
   "cell_type": "code",
   "execution_count": 6,
   "metadata": {},
   "outputs": [
    {
     "name": "stdout",
     "output_type": "stream",
     "text": [
      "mean-shift silhouette score: 0.07308587709358311\n"
     ]
    }
   ],
   "source": [
    "bandwidth = cluster.estimate_bandwidth(X_train, quantile=0.1, n_samples=500)\n",
    "ms = cluster.MeanShift(bandwidth=bandwidth, bin_seeding=True)\n",
    "\n",
    "ms.fit(X_train)\n",
    "\n",
    "ms_labels = ms.predict(X_test)\n",
    "\n",
    "ms_silhouette = metrics.silhouette_score(X_test, ms_labels)\n",
    "print('mean-shift silhouette score: ' + str(ms_silhouette))"
   ]
  },
  {
   "cell_type": "code",
   "execution_count": 8,
   "metadata": {},
   "outputs": [
    {
     "name": "stdout",
     "output_type": "stream",
     "text": [
      "k-mode silhouette score: 0.11750917239635501\n"
     ]
    }
   ],
   "source": [
    "from kmodes.kmodes import KModes\n",
    "\n",
    "km = KModes(n_clusters=4)\n",
    "km.fit(X_train)\n",
    "\n",
    "kmode_labels = km.predict(X_test)\n",
    "\n",
    "kmode_silhouette = metrics.silhouette_score(X_test, kmode_labels)\n",
    "\n",
    "print('k-mode silhouette score: ' + str(kmode_silhouette))"
   ]
  },
  {
   "cell_type": "code",
   "execution_count": null,
   "metadata": {},
   "outputs": [],
   "source": []
  }
 ],
 "metadata": {
  "anaconda-cloud": {},
  "kernelspec": {
   "display_name": "Python 3",
   "language": "python",
   "name": "python3"
  },
  "language_info": {
   "codemirror_mode": {
    "name": "ipython",
    "version": 3
   },
   "file_extension": ".py",
   "mimetype": "text/x-python",
   "name": "python",
   "nbconvert_exporter": "python",
   "pygments_lexer": "ipython3",
   "version": "3.7.1"
  }
 },
 "nbformat": 4,
 "nbformat_minor": 1
}

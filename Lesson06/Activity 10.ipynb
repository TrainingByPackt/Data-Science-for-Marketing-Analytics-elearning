{
 "cells": [
  {
   "cell_type": "code",
   "execution_count": 1,
   "metadata": {},
   "outputs": [
    {
     "data": {
      "text/html": [
       "<div>\n",
       "<style scoped>\n",
       "    .dataframe tbody tr th:only-of-type {\n",
       "        vertical-align: middle;\n",
       "    }\n",
       "\n",
       "    .dataframe tbody tr th {\n",
       "        vertical-align: top;\n",
       "    }\n",
       "\n",
       "    .dataframe thead th {\n",
       "        text-align: right;\n",
       "    }\n",
       "</style>\n",
       "<table border=\"1\" class=\"dataframe\">\n",
       "  <thead>\n",
       "    <tr style=\"text-align: right;\">\n",
       "      <th></th>\n",
       "      <th>responses</th>\n",
       "      <th>offer_discount</th>\n",
       "      <th>offer_quality</th>\n",
       "      <th>offer_reach</th>\n",
       "    </tr>\n",
       "  </thead>\n",
       "  <tbody>\n",
       "    <tr>\n",
       "      <th>0</th>\n",
       "      <td>4151.0</td>\n",
       "      <td>26.0</td>\n",
       "      <td>10.257680</td>\n",
       "      <td>31344.0</td>\n",
       "    </tr>\n",
       "    <tr>\n",
       "      <th>1</th>\n",
       "      <td>3397.0</td>\n",
       "      <td>35.0</td>\n",
       "      <td>15.194380</td>\n",
       "      <td>24016.0</td>\n",
       "    </tr>\n",
       "    <tr>\n",
       "      <th>2</th>\n",
       "      <td>3274.0</td>\n",
       "      <td>21.0</td>\n",
       "      <td>13.971468</td>\n",
       "      <td>28832.0</td>\n",
       "    </tr>\n",
       "    <tr>\n",
       "      <th>3</th>\n",
       "      <td>3426.0</td>\n",
       "      <td>27.0</td>\n",
       "      <td>6.054338</td>\n",
       "      <td>26747.0</td>\n",
       "    </tr>\n",
       "    <tr>\n",
       "      <th>4</th>\n",
       "      <td>5745.0</td>\n",
       "      <td>42.0</td>\n",
       "      <td>16.801365</td>\n",
       "      <td>46968.0</td>\n",
       "    </tr>\n",
       "  </tbody>\n",
       "</table>\n",
       "</div>"
      ],
      "text/plain": [
       "   responses  offer_discount  offer_quality  offer_reach\n",
       "0     4151.0            26.0      10.257680      31344.0\n",
       "1     3397.0            35.0      15.194380      24016.0\n",
       "2     3274.0            21.0      13.971468      28832.0\n",
       "3     3426.0            27.0       6.054338      26747.0\n",
       "4     5745.0            42.0      16.801365      46968.0"
      ]
     },
     "execution_count": 1,
     "metadata": {},
     "output_type": "execute_result"
    }
   ],
   "source": [
    "import pandas as pd\n",
    "\n",
    "df = pd.read_csv('offer_responses.csv')\n",
    "df.head()"
   ]
  },
  {
   "cell_type": "code",
   "execution_count": 2,
   "metadata": {},
   "outputs": [],
   "source": [
    "from sklearn.model_selection import train_test_split\n",
    "\n",
    "X = df[['offer_quality',\n",
    "        'offer_discount',\n",
    "        'offer_reach'\n",
    "       ]]\n",
    "\n",
    "y = df['responses']\n",
    "\n",
    "X_train, X_test, y_train, y_test = train_test_split(X, y, random_state = 10)"
   ]
  },
  {
   "cell_type": "code",
   "execution_count": 3,
   "metadata": {},
   "outputs": [
    {
     "name": "stdout",
     "output_type": "stream",
     "text": [
      "RMSE with all variables: 966.2461828577945\n"
     ]
    }
   ],
   "source": [
    "from sklearn.linear_model import LinearRegression\n",
    "from sklearn.metrics import mean_squared_error\n",
    "\n",
    "model = LinearRegression()\n",
    "model.fit(X_train,y_train)\n",
    "\n",
    "predictions = model.predict(X_test)\n",
    "\n",
    "print('RMSE with all variables: ' + str(mean_squared_error(predictions, y_test)**0.5))"
   ]
  },
  {
   "cell_type": "code",
   "execution_count": 4,
   "metadata": {},
   "outputs": [
    {
     "name": "stdout",
     "output_type": "stream",
     "text": [
      "RMSE without offer quality: 965.5346123758474\n"
     ]
    }
   ],
   "source": [
    "X_train2 = X_train.drop('offer_quality',axis=1)\n",
    "X_test2 = X_test.drop('offer_quality',axis=1)\n",
    "\n",
    "model = LinearRegression()\n",
    "model.fit(X_train2,y_train)\n",
    "\n",
    "predictions = model.predict(X_test2)\n",
    "\n",
    "print('RMSE without offer quality: ' + str(mean_squared_error(predictions, y_test)**0.5))"
   ]
  },
  {
   "cell_type": "code",
   "execution_count": 5,
   "metadata": {},
   "outputs": [
    {
     "name": "stdout",
     "output_type": "stream",
     "text": [
      "RMSE without offer discount: 1231.6766556327284\n"
     ]
    }
   ],
   "source": [
    "X_train3 = X_train.drop('offer_discount',axis=1)\n",
    "X_test3 = X_test.drop('offer_discount',axis=1)\n",
    "\n",
    "model = LinearRegression()\n",
    "model.fit(X_train3,y_train)\n",
    "\n",
    "predictions = model.predict(X_test3)\n",
    "\n",
    "print('RMSE without offer discount: ' + str(mean_squared_error(predictions, y_test)**0.5))"
   ]
  },
  {
   "cell_type": "code",
   "execution_count": 6,
   "metadata": {},
   "outputs": [
    {
     "name": "stdout",
     "output_type": "stream",
     "text": [
      "RMSE without offer reach: 1185.8456831644114\n"
     ]
    }
   ],
   "source": [
    "X_train4 = X_train.drop('offer_reach',axis=1)\n",
    "X_test4 = X_test.drop('offer_reach',axis=1)\n",
    "\n",
    "model = LinearRegression()\n",
    "model.fit(X_train4,y_train)\n",
    "\n",
    "predictions = model.predict(X_test4)\n",
    "\n",
    "print('RMSE without offer reach: ' + str(mean_squared_error(predictions, y_test)**0.5))"
   ]
  }
 ],
 "metadata": {
  "kernelspec": {
   "display_name": "Python 3",
   "language": "python",
   "name": "python3"
  },
  "language_info": {
   "codemirror_mode": {
    "name": "ipython",
    "version": 3
   },
   "file_extension": ".py",
   "mimetype": "text/x-python",
   "name": "python",
   "nbconvert_exporter": "python",
   "pygments_lexer": "ipython3",
   "version": "3.6.0"
  }
 },
 "nbformat": 4,
 "nbformat_minor": 2
}

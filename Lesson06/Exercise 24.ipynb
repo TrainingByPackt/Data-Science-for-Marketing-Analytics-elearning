{
 "cells": [
  {
   "cell_type": "code",
   "execution_count": 1,
   "metadata": {},
   "outputs": [
    {
     "data": {
      "text/html": [
       "<div>\n",
       "<style scoped>\n",
       "    .dataframe tbody tr th:only-of-type {\n",
       "        vertical-align: middle;\n",
       "    }\n",
       "\n",
       "    .dataframe tbody tr th {\n",
       "        vertical-align: top;\n",
       "    }\n",
       "\n",
       "    .dataframe thead th {\n",
       "        text-align: right;\n",
       "    }\n",
       "</style>\n",
       "<table border=\"1\" class=\"dataframe\">\n",
       "  <thead>\n",
       "    <tr style=\"text-align: right;\">\n",
       "      <th></th>\n",
       "      <th>revenue</th>\n",
       "      <th>score0</th>\n",
       "      <th>score1</th>\n",
       "      <th>score2</th>\n",
       "      <th>score3</th>\n",
       "      <th>score4</th>\n",
       "      <th>score5</th>\n",
       "      <th>score6</th>\n",
       "      <th>score7</th>\n",
       "      <th>score8</th>\n",
       "      <th>...</th>\n",
       "      <th>score10</th>\n",
       "      <th>score11</th>\n",
       "      <th>score12</th>\n",
       "      <th>score13</th>\n",
       "      <th>score14</th>\n",
       "      <th>score15</th>\n",
       "      <th>score16</th>\n",
       "      <th>score17</th>\n",
       "      <th>score18</th>\n",
       "      <th>score19</th>\n",
       "    </tr>\n",
       "  </thead>\n",
       "  <tbody>\n",
       "    <tr>\n",
       "      <th>0</th>\n",
       "      <td>30698.74</td>\n",
       "      <td>0.067763</td>\n",
       "      <td>1.762772</td>\n",
       "      <td>0.211119</td>\n",
       "      <td>0.619655</td>\n",
       "      <td>-1.586284</td>\n",
       "      <td>0.051320</td>\n",
       "      <td>-0.529940</td>\n",
       "      <td>-0.177908</td>\n",
       "      <td>-0.387431</td>\n",
       "      <td>...</td>\n",
       "      <td>-1.246132</td>\n",
       "      <td>-1.817742</td>\n",
       "      <td>-0.189583</td>\n",
       "      <td>-1.636507</td>\n",
       "      <td>0.088087</td>\n",
       "      <td>0.481573</td>\n",
       "      <td>2.243539</td>\n",
       "      <td>0.330061</td>\n",
       "      <td>-1.019798</td>\n",
       "      <td>-1.409513</td>\n",
       "    </tr>\n",
       "    <tr>\n",
       "      <th>1</th>\n",
       "      <td>46813.75</td>\n",
       "      <td>0.943657</td>\n",
       "      <td>-0.696100</td>\n",
       "      <td>3.503075</td>\n",
       "      <td>1.323145</td>\n",
       "      <td>-0.579567</td>\n",
       "      <td>-1.379598</td>\n",
       "      <td>0.013465</td>\n",
       "      <td>1.061996</td>\n",
       "      <td>-0.952645</td>\n",
       "      <td>...</td>\n",
       "      <td>1.115770</td>\n",
       "      <td>0.455824</td>\n",
       "      <td>0.109667</td>\n",
       "      <td>-0.790210</td>\n",
       "      <td>1.876311</td>\n",
       "      <td>0.610918</td>\n",
       "      <td>0.208647</td>\n",
       "      <td>1.505998</td>\n",
       "      <td>0.671251</td>\n",
       "      <td>0.315013</td>\n",
       "    </tr>\n",
       "    <tr>\n",
       "      <th>2</th>\n",
       "      <td>39493.35</td>\n",
       "      <td>-0.070838</td>\n",
       "      <td>-1.817580</td>\n",
       "      <td>-0.156724</td>\n",
       "      <td>-0.159741</td>\n",
       "      <td>-1.564338</td>\n",
       "      <td>-0.817489</td>\n",
       "      <td>0.125174</td>\n",
       "      <td>-1.053015</td>\n",
       "      <td>0.181246</td>\n",
       "      <td>...</td>\n",
       "      <td>-0.006912</td>\n",
       "      <td>-0.009129</td>\n",
       "      <td>-0.324959</td>\n",
       "      <td>1.040768</td>\n",
       "      <td>0.375134</td>\n",
       "      <td>-0.127496</td>\n",
       "      <td>1.435406</td>\n",
       "      <td>3.267201</td>\n",
       "      <td>-0.010580</td>\n",
       "      <td>-1.725084</td>\n",
       "    </tr>\n",
       "    <tr>\n",
       "      <th>3</th>\n",
       "      <td>48130.55</td>\n",
       "      <td>-0.133306</td>\n",
       "      <td>0.815997</td>\n",
       "      <td>2.261204</td>\n",
       "      <td>0.794839</td>\n",
       "      <td>-0.947440</td>\n",
       "      <td>0.049189</td>\n",
       "      <td>-0.042403</td>\n",
       "      <td>1.657086</td>\n",
       "      <td>-2.870217</td>\n",
       "      <td>...</td>\n",
       "      <td>2.183177</td>\n",
       "      <td>0.364106</td>\n",
       "      <td>0.686530</td>\n",
       "      <td>0.112862</td>\n",
       "      <td>1.840957</td>\n",
       "      <td>-1.003409</td>\n",
       "      <td>1.641141</td>\n",
       "      <td>1.469621</td>\n",
       "      <td>-1.839971</td>\n",
       "      <td>-0.456130</td>\n",
       "    </tr>\n",
       "    <tr>\n",
       "      <th>4</th>\n",
       "      <td>35129.09</td>\n",
       "      <td>0.452780</td>\n",
       "      <td>1.529394</td>\n",
       "      <td>0.085364</td>\n",
       "      <td>-0.787245</td>\n",
       "      <td>1.351148</td>\n",
       "      <td>-0.340774</td>\n",
       "      <td>0.354099</td>\n",
       "      <td>-0.319731</td>\n",
       "      <td>-0.776033</td>\n",
       "      <td>...</td>\n",
       "      <td>2.000792</td>\n",
       "      <td>1.035293</td>\n",
       "      <td>-0.719229</td>\n",
       "      <td>-3.073072</td>\n",
       "      <td>-0.078145</td>\n",
       "      <td>-0.154752</td>\n",
       "      <td>0.117198</td>\n",
       "      <td>0.226051</td>\n",
       "      <td>-1.447333</td>\n",
       "      <td>0.463009</td>\n",
       "    </tr>\n",
       "  </tbody>\n",
       "</table>\n",
       "<p>5 rows × 21 columns</p>\n",
       "</div>"
      ],
      "text/plain": [
       "    revenue    score0    score1    score2    score3    score4    score5  \\\n",
       "0  30698.74  0.067763  1.762772  0.211119  0.619655 -1.586284  0.051320   \n",
       "1  46813.75  0.943657 -0.696100  3.503075  1.323145 -0.579567 -1.379598   \n",
       "2  39493.35 -0.070838 -1.817580 -0.156724 -0.159741 -1.564338 -0.817489   \n",
       "3  48130.55 -0.133306  0.815997  2.261204  0.794839 -0.947440  0.049189   \n",
       "4  35129.09  0.452780  1.529394  0.085364 -0.787245  1.351148 -0.340774   \n",
       "\n",
       "     score6    score7    score8    ...      score10   score11   score12  \\\n",
       "0 -0.529940 -0.177908 -0.387431    ...    -1.246132 -1.817742 -0.189583   \n",
       "1  0.013465  1.061996 -0.952645    ...     1.115770  0.455824  0.109667   \n",
       "2  0.125174 -1.053015  0.181246    ...    -0.006912 -0.009129 -0.324959   \n",
       "3 -0.042403  1.657086 -2.870217    ...     2.183177  0.364106  0.686530   \n",
       "4  0.354099 -0.319731 -0.776033    ...     2.000792  1.035293 -0.719229   \n",
       "\n",
       "    score13   score14   score15   score16   score17   score18   score19  \n",
       "0 -1.636507  0.088087  0.481573  2.243539  0.330061 -1.019798 -1.409513  \n",
       "1 -0.790210  1.876311  0.610918  0.208647  1.505998  0.671251  0.315013  \n",
       "2  1.040768  0.375134 -0.127496  1.435406  3.267201 -0.010580 -1.725084  \n",
       "3  0.112862  1.840957 -1.003409  1.641141  1.469621 -1.839971 -0.456130  \n",
       "4 -3.073072 -0.078145 -0.154752  0.117198  0.226051 -1.447333  0.463009  \n",
       "\n",
       "[5 rows x 21 columns]"
      ]
     },
     "execution_count": 1,
     "metadata": {},
     "output_type": "execute_result"
    }
   ],
   "source": [
    "import pandas as pd\n",
    "\n",
    "df = pd.read_csv('20scores.csv')\n",
    "df.head()"
   ]
  },
  {
   "cell_type": "code",
   "execution_count": 2,
   "metadata": {},
   "outputs": [],
   "source": [
    "from sklearn.model_selection import train_test_split\n",
    "\n",
    "x_cols = df.columns[1:]\n",
    "X = df[x_cols]\n",
    "\n",
    "y = df['revenue']\n",
    "\n",
    "X_train, X_test, y_train, y_test = train_test_split(X, y, random_state = 10)"
   ]
  },
  {
   "cell_type": "code",
   "execution_count": 3,
   "metadata": {},
   "outputs": [
    {
     "data": {
      "text/plain": [
       "LinearRegression(copy_X=True, fit_intercept=True, n_jobs=1, normalize=False)"
      ]
     },
     "execution_count": 3,
     "metadata": {},
     "output_type": "execute_result"
    }
   ],
   "source": [
    "from sklearn.linear_model import LinearRegression\n",
    "\n",
    "model = LinearRegression()\n",
    "model.fit(X_train,y_train)"
   ]
  },
  {
   "cell_type": "code",
   "execution_count": 4,
   "metadata": {},
   "outputs": [
    {
     "data": {
      "text/plain": [
       "array([ 3.10465458e+01,  1.35929333e+00, -1.71996170e+01, -4.26396854e+00,\n",
       "       -4.56514104e+00,  2.71178012e+01,  1.12523398e+01, -9.62768549e+00,\n",
       "        1.28097189e+01, -3.82102937e+01, -3.92691076e+00, -4.49267755e+00,\n",
       "        9.12581579e+03,  2.81237962e+01,  1.26722148e+01,  1.99096955e+01,\n",
       "       -1.73401880e+01,  3.77047162e+03, -7.57356369e+00,  4.99844116e+03])"
      ]
     },
     "execution_count": 4,
     "metadata": {},
     "output_type": "execute_result"
    }
   ],
   "source": [
    "model.coef_"
   ]
  },
  {
   "cell_type": "code",
   "execution_count": 5,
   "metadata": {},
   "outputs": [
    {
     "data": {
      "text/plain": [
       "Lasso(alpha=1.0, copy_X=True, fit_intercept=True, max_iter=1000,\n",
       "   normalize=True, positive=False, precompute=False, random_state=10,\n",
       "   selection='cyclic', tol=0.0001, warm_start=False)"
      ]
     },
     "execution_count": 5,
     "metadata": {},
     "output_type": "execute_result"
    }
   ],
   "source": [
    "from sklearn.linear_model import Lasso\n",
    "\n",
    "lasso_model = Lasso(normalize=True, random_state=10)\n",
    "lasso_model.fit(X_train,y_train)"
   ]
  },
  {
   "cell_type": "code",
   "execution_count": 6,
   "metadata": {},
   "outputs": [
    {
     "data": {
      "text/plain": [
       "array([ 4.26184401e+00,  0.00000000e+00, -0.00000000e+00, -0.00000000e+00,\n",
       "       -0.00000000e+00,  0.00000000e+00,  0.00000000e+00, -0.00000000e+00,\n",
       "        0.00000000e+00, -1.28279999e+01, -0.00000000e+00, -0.00000000e+00,\n",
       "        9.10035968e+03,  0.00000000e+00,  0.00000000e+00,  0.00000000e+00,\n",
       "       -0.00000000e+00,  3.74239596e+03, -0.00000000e+00,  4.97252311e+03])"
      ]
     },
     "execution_count": 6,
     "metadata": {},
     "output_type": "execute_result"
    }
   ],
   "source": [
    "lasso_model.coef_"
   ]
  },
  {
   "cell_type": "code",
   "execution_count": 7,
   "metadata": {},
   "outputs": [
    {
     "name": "stdout",
     "output_type": "stream",
     "text": [
      "491.78833768572633\n"
     ]
    }
   ],
   "source": [
    "from sklearn.metrics import mean_squared_error\n",
    "\n",
    "predictions = model.predict(X_test)\n",
    "print(mean_squared_error(predictions, y_test)**0.5)"
   ]
  },
  {
   "cell_type": "code",
   "execution_count": 8,
   "metadata": {},
   "outputs": [
    {
     "name": "stdout",
     "output_type": "stream",
     "text": [
      "488.60931274387747\n"
     ]
    }
   ],
   "source": [
    "lasso_predictions = lasso_model.predict(X_test)\n",
    "print(mean_squared_error(lasso_predictions, y_test)**0.5)"
   ]
  },
  {
   "cell_type": "code",
   "execution_count": null,
   "metadata": {},
   "outputs": [],
   "source": []
  }
 ],
 "metadata": {
  "kernelspec": {
   "display_name": "Python 3",
   "language": "python",
   "name": "python3"
  },
  "language_info": {
   "codemirror_mode": {
    "name": "ipython",
    "version": 3
   },
   "file_extension": ".py",
   "mimetype": "text/x-python",
   "name": "python",
   "nbconvert_exporter": "python",
   "pygments_lexer": "ipython3",
   "version": "3.6.0"
  }
 },
 "nbformat": 4,
 "nbformat_minor": 2
}

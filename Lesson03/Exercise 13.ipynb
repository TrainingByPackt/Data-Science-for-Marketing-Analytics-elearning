{
 "cells": [
  {
   "cell_type": "code",
   "execution_count": 1,
   "metadata": {},
   "outputs": [
    {
     "data": {
      "text/html": [
       "<div>\n",
       "<style scoped>\n",
       "    .dataframe tbody tr th:only-of-type {\n",
       "        vertical-align: middle;\n",
       "    }\n",
       "\n",
       "    .dataframe tbody tr th {\n",
       "        vertical-align: top;\n",
       "    }\n",
       "\n",
       "    .dataframe thead th {\n",
       "        text-align: right;\n",
       "    }\n",
       "</style>\n",
       "<table border=\"1\" class=\"dataframe\">\n",
       "  <thead>\n",
       "    <tr style=\"text-align: right;\">\n",
       "      <th></th>\n",
       "      <th>income</th>\n",
       "      <th>age</th>\n",
       "      <th>days_since_purchase</th>\n",
       "    </tr>\n",
       "  </thead>\n",
       "  <tbody>\n",
       "    <tr>\n",
       "      <th>0</th>\n",
       "      <td>56432</td>\n",
       "      <td>31</td>\n",
       "      <td>492</td>\n",
       "    </tr>\n",
       "    <tr>\n",
       "      <th>1</th>\n",
       "      <td>137580</td>\n",
       "      <td>38</td>\n",
       "      <td>551</td>\n",
       "    </tr>\n",
       "    <tr>\n",
       "      <th>2</th>\n",
       "      <td>68285</td>\n",
       "      <td>59</td>\n",
       "      <td>304</td>\n",
       "    </tr>\n",
       "    <tr>\n",
       "      <th>3</th>\n",
       "      <td>93617</td>\n",
       "      <td>51</td>\n",
       "      <td>507</td>\n",
       "    </tr>\n",
       "    <tr>\n",
       "      <th>4</th>\n",
       "      <td>113441</td>\n",
       "      <td>54</td>\n",
       "      <td>509</td>\n",
       "    </tr>\n",
       "  </tbody>\n",
       "</table>\n",
       "</div>"
      ],
      "text/plain": [
       "   income  age  days_since_purchase\n",
       "0   56432   31                  492\n",
       "1  137580   38                  551\n",
       "2   68285   59                  304\n",
       "3   93617   51                  507\n",
       "4  113441   54                  509"
      ]
     },
     "execution_count": 1,
     "metadata": {},
     "output_type": "execute_result"
    }
   ],
   "source": [
    "import pandas as pd\n",
    "\n",
    "df = pd.read_csv('three_col.csv')\n",
    "df.head()"
   ]
  },
  {
   "cell_type": "code",
   "execution_count": 2,
   "metadata": {},
   "outputs": [],
   "source": [
    "cols = df.columns\n",
    "zcols = []\n",
    "for col in cols:\n",
    "    df['z_' + col] = (df[col] - df[col].mean())/df[col].std()\n",
    "    zcols.append('z_' + col)"
   ]
  },
  {
   "cell_type": "code",
   "execution_count": 3,
   "metadata": {},
   "outputs": [
    {
     "data": {
      "text/html": [
       "<div>\n",
       "<style scoped>\n",
       "    .dataframe tbody tr th:only-of-type {\n",
       "        vertical-align: middle;\n",
       "    }\n",
       "\n",
       "    .dataframe tbody tr th {\n",
       "        vertical-align: top;\n",
       "    }\n",
       "\n",
       "    .dataframe thead th {\n",
       "        text-align: right;\n",
       "    }\n",
       "</style>\n",
       "<table border=\"1\" class=\"dataframe\">\n",
       "  <thead>\n",
       "    <tr style=\"text-align: right;\">\n",
       "      <th></th>\n",
       "      <th>income</th>\n",
       "      <th>age</th>\n",
       "      <th>days_since_purchase</th>\n",
       "      <th>z_income</th>\n",
       "      <th>z_age</th>\n",
       "      <th>z_days_since_purchase</th>\n",
       "    </tr>\n",
       "  </thead>\n",
       "  <tbody>\n",
       "    <tr>\n",
       "      <th>0</th>\n",
       "      <td>56432</td>\n",
       "      <td>31</td>\n",
       "      <td>492</td>\n",
       "      <td>-0.606833</td>\n",
       "      <td>-0.748848</td>\n",
       "      <td>0.818321</td>\n",
       "    </tr>\n",
       "    <tr>\n",
       "      <th>1</th>\n",
       "      <td>137580</td>\n",
       "      <td>38</td>\n",
       "      <td>551</td>\n",
       "      <td>1.505879</td>\n",
       "      <td>-0.135469</td>\n",
       "      <td>1.349109</td>\n",
       "    </tr>\n",
       "    <tr>\n",
       "      <th>2</th>\n",
       "      <td>68285</td>\n",
       "      <td>59</td>\n",
       "      <td>304</td>\n",
       "      <td>-0.298237</td>\n",
       "      <td>1.704668</td>\n",
       "      <td>-0.873001</td>\n",
       "    </tr>\n",
       "    <tr>\n",
       "      <th>3</th>\n",
       "      <td>93617</td>\n",
       "      <td>51</td>\n",
       "      <td>507</td>\n",
       "      <td>0.361289</td>\n",
       "      <td>1.003663</td>\n",
       "      <td>0.953267</td>\n",
       "    </tr>\n",
       "    <tr>\n",
       "      <th>4</th>\n",
       "      <td>113441</td>\n",
       "      <td>54</td>\n",
       "      <td>509</td>\n",
       "      <td>0.877413</td>\n",
       "      <td>1.266540</td>\n",
       "      <td>0.971260</td>\n",
       "    </tr>\n",
       "  </tbody>\n",
       "</table>\n",
       "</div>"
      ],
      "text/plain": [
       "   income  age  days_since_purchase  z_income     z_age  z_days_since_purchase\n",
       "0   56432   31                  492 -0.606833 -0.748848               0.818321\n",
       "1  137580   38                  551  1.505879 -0.135469               1.349109\n",
       "2   68285   59                  304 -0.298237  1.704668              -0.873001\n",
       "3   93617   51                  507  0.361289  1.003663               0.953267\n",
       "4  113441   54                  509  0.877413  1.266540               0.971260"
      ]
     },
     "execution_count": 3,
     "metadata": {},
     "output_type": "execute_result"
    }
   ],
   "source": [
    "df.head()"
   ]
  },
  {
   "cell_type": "code",
   "execution_count": 4,
   "metadata": {},
   "outputs": [],
   "source": [
    "cols = df.columns\n",
    "zcols = []\n",
    "for col in cols:\n",
    "    df['z_' + col] = (df[col] - df[col].mean())/df[col].std()\n",
    "    zcols.append('z_' + col)"
   ]
  },
  {
   "cell_type": "code",
   "execution_count": 5,
   "metadata": {},
   "outputs": [],
   "source": [
    "from sklearn import cluster\n",
    "\n",
    "model = cluster.KMeans(n_clusters=4, random_state=10)\n",
    "df['cluster'] = model.fit_predict(df[zcols])"
   ]
  },
  {
   "cell_type": "code",
   "execution_count": 6,
   "metadata": {},
   "outputs": [],
   "source": [
    "from sklearn import decomposition\n",
    "\n",
    "pca = decomposition.PCA(n_components=2)\n",
    "df['pc1'], df['pc2'] = zip(*pca.fit_transform(df[zcols]))"
   ]
  },
  {
   "cell_type": "code",
   "execution_count": 7,
   "metadata": {},
   "outputs": [
    {
     "data": {
      "image/png": "[encoded data removed]",
      "text/plain": [
       "<Figure size 432x288 with 1 Axes>"
      ]
     },
     "metadata": {},
     "output_type": "display_data"
    }
   ],
   "source": [
    "import matplotlib.pyplot as plt\n",
    "%matplotlib inline\n",
    "\n",
    "colors = ['r', 'b', 'k', 'g']\n",
    "markers = ['^', 'o', 'd', 's']\n",
    "\n",
    "for c in df['cluster'].unique():\n",
    "    d = df[df['cluster'] == c]\n",
    "    plt.scatter(d['pc1'], d['pc2'], marker=markers[c], color=colors[c])\n",
    "\n",
    "plt.show()"
   ]
  },
  {
   "cell_type": "code",
   "execution_count": 8,
   "metadata": {},
   "outputs": [
    {
     "name": "stdout",
     "output_type": "stream",
     "text": [
      "Cluster: 1\n",
      "income: 46153.20\n",
      "age: 29.34\n",
      "days_since_purchase: 498.19\n",
      "Cluster: 3\n",
      "income: 113118.22\n",
      "age: 49.77\n",
      "days_since_purchase: 502.58\n",
      "Cluster: 2\n",
      "income: 45002.10\n",
      "age: 49.49\n",
      "days_since_purchase: 299.66\n",
      "Cluster: 0\n",
      "income: 114704.12\n",
      "age: 29.34\n",
      "days_since_purchase: 302.92\n"
     ]
    }
   ],
   "source": [
    "for cluster in df['cluster'].unique():\n",
    "    print(\"Cluster: \" + str(cluster))\n",
    "    for col in ['income', 'age', 'days_since_purchase']:\n",
    "        print(col + \": {:.2f}\".format(df.loc[df['cluster'] == cluster, col].mean()))"
   ]
  },
  {
   "cell_type": "code",
   "execution_count": null,
   "metadata": {},
   "outputs": [],
   "source": []
  }
 ],
 "metadata": {
  "anaconda-cloud": {},
  "kernelspec": {
   "display_name": "Python 3",
   "language": "python",
   "name": "python3"
  },
  "language_info": {
   "codemirror_mode": {
    "name": "ipython",
    "version": 3
   },
   "file_extension": ".py",
   "mimetype": "text/x-python",
   "name": "python",
   "nbconvert_exporter": "python",
   "pygments_lexer": "ipython3",
   "version": "3.6.0"
  }
 },
 "nbformat": 4,
 "nbformat_minor": 1
}
